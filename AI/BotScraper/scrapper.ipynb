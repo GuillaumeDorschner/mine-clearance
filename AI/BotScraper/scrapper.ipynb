{
 "cells": [
  {
   "cell_type": "code",
   "execution_count": 1,
   "metadata": {},
   "outputs": [],
   "source": [
    "from __future__ import annotations\n",
    "\n",
    "import os\n",
    "import ssl\n",
    "import time\n",
    "\n",
    "import urllib3\n",
    "from selenium import webdriver\n",
    "from selenium.webdriver.common.by import By\n",
    "from selenium.webdriver.support import expected_conditions as ec\n",
    "from selenium.webdriver.support.ui import WebDriverWait\n",
    "\n",
    "search_string = '\"mine field\" -urban -city'\n",
    "folder = \"test\"\n",
    "iter = 0"
   ]
  },
  {
   "cell_type": "code",
   "execution_count": 2,
   "metadata": {},
   "outputs": [],
   "source": [
    "class Driver:\n",
    "    def __init__(self: Driver) -> None:\n",
    "        options = webdriver.ChromeOptions()\n",
    "        options.add_argument(\"--remote-debugging-port=8000\")\n",
    "        self.driver = webdriver.Chrome()  # options.add_argument(\"--headless\")\n",
    "        self.wait = WebDriverWait(self.driver, 10)\n",
    "        # self.driver.maximize_window()\n",
    "        self.driver.set_window_size(1920, 1080)\n",
    "        self.driver.get(\"https://www.google.com/\")\n",
    "\n",
    "    def setup(self: Driver) -> None:\n",
    "        self.cookie_validator()\n",
    "\n",
    "    def cookie_validator(self: Driver) -> None:\n",
    "        self.wait.until(\n",
    "            ec.presence_of_element_located((By.CSS_SELECTOR, \"#L2AGLb > div\")),\n",
    "        )\n",
    "        Driver.driver.find_element(By.CSS_SELECTOR, \"#L2AGLb > div\").click()\n",
    "\n",
    "    def search(self: Driver, search_string: str) -> None:\n",
    "        self.driver.get(\n",
    "            f\"https://www.google.com/search?q={search_string}&tbm=isch\",\n",
    "        )\n",
    "\n",
    "    def get_images(self: Driver) -> list:\n",
    "        return self.driver.find_elements(\n",
    "            By.XPATH,\n",
    "            '//*[@id=\"islrg\"]/div[1]/div/a[1]/div/img',\n",
    "        )"
   ]
  },
  {
   "cell_type": "code",
   "execution_count": 3,
   "metadata": {},
   "outputs": [],
   "source": [
    "class Item:\n",
    "    def __init__(self: Item, url: str, driver: Driver) -> None:\n",
    "        self.url = url\n",
    "        self.Driver = driver\n",
    "\n",
    "    def get_children(self: Item) -> list:\n",
    "        return Driver.driver.find_elements(\n",
    "            By.XPATH,\n",
    "            '//*[@id=\"Sva75c\"]/div[2]/div[2]/div[2]/div[2]/c-wiz/div/div/div/div/c-wiz/div/div/div/div[1]/div[3]/div/div/a[1]/div[1]/img',\n",
    "        )\n",
    "\n",
    "    def download(self, image_element: list) -> None:\n",
    "        image_element[0].click()\n",
    "\n",
    "        global iter\n",
    "        try:\n",
    "            print(f\"{os.getcwd()}\")\n",
    "            if not os.path.exists(f\"./download/{folder}\"):\n",
    "                os.mkdir(f\"./download/{folder}\")\n",
    "\n",
    "            http = urllib3.PoolManager(cert_reqs=\"CERT_NONE\")\n",
    "            response = http.request(\n",
    "                \"GET\",\n",
    "                image_element[0].get_attribute(\"src\"),\n",
    "                preload_content=False,\n",
    "            )\n",
    "            with open(f\"./download/{folder}/{iter}-fille.jpg\", \"wb\") as out_file:\n",
    "                out_file.write(response.data)\n",
    "            response.release_conn()\n",
    "            iter += 1\n",
    "        except Exception as e:\n",
    "            print(e)\n",
    "            pass\n",
    "\n",
    "        self.driver.execute_script(\"window.history.go(-1)\")"
   ]
  },
  {
   "cell_type": "code",
   "execution_count": 4,
   "metadata": {},
   "outputs": [],
   "source": [
    "Driver = Driver()\n",
    "Driver.setup()\n",
    "Driver.search(search_string)\n",
    "images = Driver.get_images()"
   ]
  },
  {
   "cell_type": "code",
   "execution_count": 5,
   "metadata": {},
   "outputs": [],
   "source": [
    "def download_image(image_element) -> None:\n",
    "    global iter\n",
    "    try:\n",
    "        print(f\"{os.getcwd()}\")\n",
    "        if not os.path.exists(f\"./download/{folder}\"):\n",
    "            os.mkdir(f\"./download/{folder}\")\n",
    "\n",
    "        http = urllib3.PoolManager(cert_reqs=\"CERT_NONE\")\n",
    "        response = http.request(\n",
    "            \"GET\", image_element[0].get_attribute(\"src\"), preload_content=False\n",
    "        )\n",
    "        with open(f\"./download/{folder}/{iter}.jpg\", \"wb\") as out_file:\n",
    "            out_file.write(response.data)\n",
    "        response.release_conn()\n",
    "        iter += 1\n",
    "    except Exception as e:\n",
    "        print(e)\n",
    "        pass"
   ]
  },
  {
   "cell_type": "code",
   "execution_count": 17,
   "metadata": {},
   "outputs": [
    {
     "name": "stdout",
     "output_type": "stream",
     "text": [
      "https://www.csiro.au/-/media/WordPress/CSIROBlog/AdobeStock_1119463-1024x683.jpeg?mw=800&hash=52E7503FA239B2FD7BB967B1B69A657C\n",
      "/Users/guillaumedorschner/Library/Mobile Documents/com~apple~CloudDocs/Ecole/4 - ESILV/A4/S7/PI 2/mine-clearance/AI/BotScraper\n"
     ]
    },
    {
     "name": "stderr",
     "output_type": "stream",
     "text": [
      "/Library/Frameworks/Python.framework/Versions/3.11/lib/python3.11/site-packages/urllib3/connectionpool.py:1045: InsecureRequestWarning: Unverified HTTPS request is being made to host 'www.csiro.au'. Adding certificate verification is strongly advised. See: https://urllib3.readthedocs.io/en/1.26.x/advanced-usage.html#ssl-warnings\n",
      "  warnings.warn(\n"
     ]
    },
    {
     "name": "stdout",
     "output_type": "stream",
     "text": [
      "Found 12 child images\n",
      "Found 12 child images\n",
      "https://t3.ftcdn.net/jpg/00/01/11/94/360_F_1119461_vPl91XYaxph4JKqEFldV1ld0OGHIJK.jpg\n",
      "/Users/guillaumedorschner/Library/Mobile Documents/com~apple~CloudDocs/Ecole/4 - ESILV/A4/S7/PI 2/mine-clearance/AI/BotScraper\n"
     ]
    },
    {
     "name": "stderr",
     "output_type": "stream",
     "text": [
      "/Library/Frameworks/Python.framework/Versions/3.11/lib/python3.11/site-packages/urllib3/connectionpool.py:1045: InsecureRequestWarning: Unverified HTTPS request is being made to host 't3.ftcdn.net'. Adding certificate verification is strongly advised. See: https://urllib3.readthedocs.io/en/1.26.x/advanced-usage.html#ssl-warnings\n",
      "  warnings.warn(\n"
     ]
    },
    {
     "name": "stdout",
     "output_type": "stream",
     "text": [
      "Found 12 child images\n",
      "https://qph.cf2.quoracdn.net/main-qimg-c234203458bc94fb5de7cb3d852a5070\n",
      "/Users/guillaumedorschner/Library/Mobile Documents/com~apple~CloudDocs/Ecole/4 - ESILV/A4/S7/PI 2/mine-clearance/AI/BotScraper\n"
     ]
    },
    {
     "name": "stderr",
     "output_type": "stream",
     "text": [
      "/Library/Frameworks/Python.framework/Versions/3.11/lib/python3.11/site-packages/urllib3/connectionpool.py:1045: InsecureRequestWarning: Unverified HTTPS request is being made to host 'qph.cf2.quoracdn.net'. Adding certificate verification is strongly advised. See: https://urllib3.readthedocs.io/en/1.26.x/advanced-usage.html#ssl-warnings\n",
      "  warnings.warn(\n"
     ]
    },
    {
     "name": "stdout",
     "output_type": "stream",
     "text": [
      "Found 12 child images\n",
      "https://ichef.bbci.co.uk/images/ic/1200x675/p034f2c2.jpg\n",
      "/Users/guillaumedorschner/Library/Mobile Documents/com~apple~CloudDocs/Ecole/4 - ESILV/A4/S7/PI 2/mine-clearance/AI/BotScraper\n"
     ]
    },
    {
     "name": "stderr",
     "output_type": "stream",
     "text": [
      "/Library/Frameworks/Python.framework/Versions/3.11/lib/python3.11/site-packages/urllib3/connectionpool.py:1045: InsecureRequestWarning: Unverified HTTPS request is being made to host 'ichef.bbci.co.uk'. Adding certificate verification is strongly advised. See: https://urllib3.readthedocs.io/en/1.26.x/advanced-usage.html#ssl-warnings\n",
      "  warnings.warn(\n"
     ]
    },
    {
     "name": "stdout",
     "output_type": "stream",
     "text": [
      "Found 12 child images\n",
      "https://assets2.cbsnewsstatic.com/hub/i/r/2023/08/06/25fb57fc-8f81-43ad-87bf-b9bbf0c3b80e/thumbnail/640x360/ede839fc151ac7e3fed6cc91854e9e37/marking-the-boundaries-of-cleared-mine-field.jpg?v=5382e209c94ee904b3a96a69f8ca0ce0\n",
      "/Users/guillaumedorschner/Library/Mobile Documents/com~apple~CloudDocs/Ecole/4 - ESILV/A4/S7/PI 2/mine-clearance/AI/BotScraper\n"
     ]
    },
    {
     "name": "stderr",
     "output_type": "stream",
     "text": [
      "/Library/Frameworks/Python.framework/Versions/3.11/lib/python3.11/site-packages/urllib3/connectionpool.py:1045: InsecureRequestWarning: Unverified HTTPS request is being made to host 'assets2.cbsnewsstatic.com'. Adding certificate verification is strongly advised. See: https://urllib3.readthedocs.io/en/1.26.x/advanced-usage.html#ssl-warnings\n",
      "  warnings.warn(\n"
     ]
    },
    {
     "name": "stdout",
     "output_type": "stream",
     "text": [
      "Found 12 child images\n",
      "https://previews.123rf.com/images/diego_cervo/diego_cervo0608/diego_cervo060800027/501332-mine-field-in-the-desert.jpg\n",
      "/Users/guillaumedorschner/Library/Mobile Documents/com~apple~CloudDocs/Ecole/4 - ESILV/A4/S7/PI 2/mine-clearance/AI/BotScraper\n"
     ]
    },
    {
     "name": "stderr",
     "output_type": "stream",
     "text": [
      "/Library/Frameworks/Python.framework/Versions/3.11/lib/python3.11/site-packages/urllib3/connectionpool.py:1045: InsecureRequestWarning: Unverified HTTPS request is being made to host 'previews.123rf.com'. Adding certificate verification is strongly advised. See: https://urllib3.readthedocs.io/en/1.26.x/advanced-usage.html#ssl-warnings\n",
      "  warnings.warn(\n"
     ]
    },
    {
     "name": "stdout",
     "output_type": "stream",
     "text": [
      "Found 12 child images\n",
      "https://diy-escapegames.com/wp-content/uploads/2020/03/mines.jpg\n",
      "/Users/guillaumedorschner/Library/Mobile Documents/com~apple~CloudDocs/Ecole/4 - ESILV/A4/S7/PI 2/mine-clearance/AI/BotScraper\n"
     ]
    },
    {
     "name": "stderr",
     "output_type": "stream",
     "text": [
      "/Library/Frameworks/Python.framework/Versions/3.11/lib/python3.11/site-packages/urllib3/connectionpool.py:1045: InsecureRequestWarning: Unverified HTTPS request is being made to host 'diy-escapegames.com'. Adding certificate verification is strongly advised. See: https://urllib3.readthedocs.io/en/1.26.x/advanced-usage.html#ssl-warnings\n",
      "  warnings.warn(\n"
     ]
    },
    {
     "name": "stdout",
     "output_type": "stream",
     "text": [
      "Found 12 child images\n",
      "https://media.wired.com/photos/63a24c204438fa13e33c1d70/master/pass/minefield_ukraine_getty_GettyImages-1240222923.jpg\n",
      "/Users/guillaumedorschner/Library/Mobile Documents/com~apple~CloudDocs/Ecole/4 - ESILV/A4/S7/PI 2/mine-clearance/AI/BotScraper\n"
     ]
    },
    {
     "name": "stderr",
     "output_type": "stream",
     "text": [
      "/Library/Frameworks/Python.framework/Versions/3.11/lib/python3.11/site-packages/urllib3/connectionpool.py:1045: InsecureRequestWarning: Unverified HTTPS request is being made to host 'media.wired.com'. Adding certificate verification is strongly advised. See: https://urllib3.readthedocs.io/en/1.26.x/advanced-usage.html#ssl-warnings\n",
      "  warnings.warn(\n"
     ]
    },
    {
     "name": "stdout",
     "output_type": "stream",
     "text": [
      "Found 12 child images\n",
      "https://www.strangehistory.net/blog/wp-content/uploads/2015/10/mine.jpg\n",
      "/Users/guillaumedorschner/Library/Mobile Documents/com~apple~CloudDocs/Ecole/4 - ESILV/A4/S7/PI 2/mine-clearance/AI/BotScraper\n"
     ]
    },
    {
     "name": "stderr",
     "output_type": "stream",
     "text": [
      "/Library/Frameworks/Python.framework/Versions/3.11/lib/python3.11/site-packages/urllib3/connectionpool.py:1045: InsecureRequestWarning: Unverified HTTPS request is being made to host 'www.strangehistory.net'. Adding certificate verification is strongly advised. See: https://urllib3.readthedocs.io/en/1.26.x/advanced-usage.html#ssl-warnings\n",
      "  warnings.warn(\n"
     ]
    },
    {
     "name": "stdout",
     "output_type": "stream",
     "text": [
      "Found 12 child images\n",
      "https://www.shutterstock.com/image-photo/mykolaiv-region-ukraine-10-october-260nw-2386252237.jpg\n",
      "/Users/guillaumedorschner/Library/Mobile Documents/com~apple~CloudDocs/Ecole/4 - ESILV/A4/S7/PI 2/mine-clearance/AI/BotScraper\n"
     ]
    },
    {
     "name": "stderr",
     "output_type": "stream",
     "text": [
      "/Library/Frameworks/Python.framework/Versions/3.11/lib/python3.11/site-packages/urllib3/connectionpool.py:1045: InsecureRequestWarning: Unverified HTTPS request is being made to host 'www.shutterstock.com'. Adding certificate verification is strongly advised. See: https://urllib3.readthedocs.io/en/1.26.x/advanced-usage.html#ssl-warnings\n",
      "  warnings.warn(\n"
     ]
    },
    {
     "name": "stdout",
     "output_type": "stream",
     "text": [
      "Found 12 child images\n",
      "https://hips.hearstapps.com/hmg-prod/images/5390259-1563221599.jpg?crop=1.00xw:0.756xh;0,0.244xh&resize=1200:*\n",
      "/Users/guillaumedorschner/Library/Mobile Documents/com~apple~CloudDocs/Ecole/4 - ESILV/A4/S7/PI 2/mine-clearance/AI/BotScraper\n"
     ]
    },
    {
     "name": "stderr",
     "output_type": "stream",
     "text": [
      "/Library/Frameworks/Python.framework/Versions/3.11/lib/python3.11/site-packages/urllib3/connectionpool.py:1045: InsecureRequestWarning: Unverified HTTPS request is being made to host 'hips.hearstapps.com'. Adding certificate verification is strongly advised. See: https://urllib3.readthedocs.io/en/1.26.x/advanced-usage.html#ssl-warnings\n",
      "  warnings.warn(\n"
     ]
    },
    {
     "name": "stdout",
     "output_type": "stream",
     "text": [
      "Found 12 child images\n",
      "https://dims.apnews.com/dims4/default/0b9d145/2147483647/strip/true/crop/2000x1533+0+0/resize/599x459!/quality/90/?url=https%3A%2F%2Fstorage.googleapis.com%2Fafs-prod%2Fmedia%2F5b3382bc618442c98b0836d1f169cd36%2F2000.jpeg\n",
      "/Users/guillaumedorschner/Library/Mobile Documents/com~apple~CloudDocs/Ecole/4 - ESILV/A4/S7/PI 2/mine-clearance/AI/BotScraper\n"
     ]
    },
    {
     "name": "stderr",
     "output_type": "stream",
     "text": [
      "/Library/Frameworks/Python.framework/Versions/3.11/lib/python3.11/site-packages/urllib3/connectionpool.py:1045: InsecureRequestWarning: Unverified HTTPS request is being made to host 'dims.apnews.com'. Adding certificate verification is strongly advised. See: https://urllib3.readthedocs.io/en/1.26.x/advanced-usage.html#ssl-warnings\n",
      "  warnings.warn(\n"
     ]
    },
    {
     "name": "stdout",
     "output_type": "stream",
     "text": [
      "Found 12 child images\n",
      "https://www.washingtonpost.com/resizer/mtDzmVSCrk8WWMSwqBEehbS8KCA=/arc-anglerfish-washpost-prod-washpost/public/5N3ME3BBVFCMZISM3P4IFFVFZY.jpg\n",
      "/Users/guillaumedorschner/Library/Mobile Documents/com~apple~CloudDocs/Ecole/4 - ESILV/A4/S7/PI 2/mine-clearance/AI/BotScraper\n"
     ]
    },
    {
     "name": "stderr",
     "output_type": "stream",
     "text": [
      "/Library/Frameworks/Python.framework/Versions/3.11/lib/python3.11/site-packages/urllib3/connectionpool.py:1045: InsecureRequestWarning: Unverified HTTPS request is being made to host 'www.washingtonpost.com'. Adding certificate verification is strongly advised. See: https://urllib3.readthedocs.io/en/1.26.x/advanced-usage.html#ssl-warnings\n",
      "  warnings.warn(\n"
     ]
    },
    {
     "name": "stdout",
     "output_type": "stream",
     "text": [
      "https://previews.123rf.com/images/diego_cervo/diego_cervo0608/diego_cervo060800026/501336-mine-field-in-the-desert.jpg\n",
      "/Users/guillaumedorschner/Library/Mobile Documents/com~apple~CloudDocs/Ecole/4 - ESILV/A4/S7/PI 2/mine-clearance/AI/BotScraper\n"
     ]
    },
    {
     "name": "stderr",
     "output_type": "stream",
     "text": [
      "/Library/Frameworks/Python.framework/Versions/3.11/lib/python3.11/site-packages/urllib3/connectionpool.py:1045: InsecureRequestWarning: Unverified HTTPS request is being made to host 'previews.123rf.com'. Adding certificate verification is strongly advised. See: https://urllib3.readthedocs.io/en/1.26.x/advanced-usage.html#ssl-warnings\n",
      "  warnings.warn(\n"
     ]
    },
    {
     "name": "stdout",
     "output_type": "stream",
     "text": [
      "Found 12 child images\n",
      "Found 12 child images\n",
      "https://previews.123rf.com/images/diego_cervo/diego_cervo0608/diego_cervo060800027/501332-mine-field-in-the-desert.jpg\n",
      "/Users/guillaumedorschner/Library/Mobile Documents/com~apple~CloudDocs/Ecole/4 - ESILV/A4/S7/PI 2/mine-clearance/AI/BotScraper\n"
     ]
    },
    {
     "name": "stderr",
     "output_type": "stream",
     "text": [
      "/Library/Frameworks/Python.framework/Versions/3.11/lib/python3.11/site-packages/urllib3/connectionpool.py:1045: InsecureRequestWarning: Unverified HTTPS request is being made to host 'previews.123rf.com'. Adding certificate verification is strongly advised. See: https://urllib3.readthedocs.io/en/1.26.x/advanced-usage.html#ssl-warnings\n",
      "  warnings.warn(\n"
     ]
    },
    {
     "name": "stdout",
     "output_type": "stream",
     "text": [
      "Found 12 child images\n",
      "https://www.shutterstock.com/image-photo/mykolaiv-region-ukraine-10-october-260nw-2386477147.jpg\n",
      "/Users/guillaumedorschner/Library/Mobile Documents/com~apple~CloudDocs/Ecole/4 - ESILV/A4/S7/PI 2/mine-clearance/AI/BotScraper\n"
     ]
    },
    {
     "name": "stderr",
     "output_type": "stream",
     "text": [
      "/Library/Frameworks/Python.framework/Versions/3.11/lib/python3.11/site-packages/urllib3/connectionpool.py:1045: InsecureRequestWarning: Unverified HTTPS request is being made to host 'www.shutterstock.com'. Adding certificate verification is strongly advised. See: https://urllib3.readthedocs.io/en/1.26.x/advanced-usage.html#ssl-warnings\n",
      "  warnings.warn(\n"
     ]
    },
    {
     "name": "stdout",
     "output_type": "stream",
     "text": [
      "Found 12 child images\n",
      "https://www.shutterstock.com/image-photo/mykolaiv-region-ukraine-10-october-260nw-2386252233.jpg\n",
      "/Users/guillaumedorschner/Library/Mobile Documents/com~apple~CloudDocs/Ecole/4 - ESILV/A4/S7/PI 2/mine-clearance/AI/BotScraper\n"
     ]
    },
    {
     "name": "stderr",
     "output_type": "stream",
     "text": [
      "/Library/Frameworks/Python.framework/Versions/3.11/lib/python3.11/site-packages/urllib3/connectionpool.py:1045: InsecureRequestWarning: Unverified HTTPS request is being made to host 'www.shutterstock.com'. Adding certificate verification is strongly advised. See: https://urllib3.readthedocs.io/en/1.26.x/advanced-usage.html#ssl-warnings\n",
      "  warnings.warn(\n"
     ]
    },
    {
     "name": "stdout",
     "output_type": "stream",
     "text": [
      "Found 12 child images\n",
      "https://c8.alamy.com/comp/ECKCG2/a-warning-sign-with-danger-mines-written-on-it-at-a-mine-field-on-ECKCG2.jpg\n",
      "/Users/guillaumedorschner/Library/Mobile Documents/com~apple~CloudDocs/Ecole/4 - ESILV/A4/S7/PI 2/mine-clearance/AI/BotScraper\n"
     ]
    },
    {
     "name": "stderr",
     "output_type": "stream",
     "text": [
      "/Library/Frameworks/Python.framework/Versions/3.11/lib/python3.11/site-packages/urllib3/connectionpool.py:1045: InsecureRequestWarning: Unverified HTTPS request is being made to host 'c8.alamy.com'. Adding certificate verification is strongly advised. See: https://urllib3.readthedocs.io/en/1.26.x/advanced-usage.html#ssl-warnings\n",
      "  warnings.warn(\n"
     ]
    },
    {
     "name": "stdout",
     "output_type": "stream",
     "text": [
      "Found 12 child images\n",
      "https://previews.123rf.com/images/diego_cervo/diego_cervo0608/diego_cervo060800056/509918-mine-field-in-the-desert.jpg\n",
      "/Users/guillaumedorschner/Library/Mobile Documents/com~apple~CloudDocs/Ecole/4 - ESILV/A4/S7/PI 2/mine-clearance/AI/BotScraper\n"
     ]
    },
    {
     "name": "stderr",
     "output_type": "stream",
     "text": [
      "/Library/Frameworks/Python.framework/Versions/3.11/lib/python3.11/site-packages/urllib3/connectionpool.py:1045: InsecureRequestWarning: Unverified HTTPS request is being made to host 'previews.123rf.com'. Adding certificate verification is strongly advised. See: https://urllib3.readthedocs.io/en/1.26.x/advanced-usage.html#ssl-warnings\n",
      "  warnings.warn(\n"
     ]
    },
    {
     "name": "stdout",
     "output_type": "stream",
     "text": [
      "Found 12 child images\n",
      "https://hips.hearstapps.com/hmg-prod/images/5390259-1563221599.jpg?crop=1.00xw:0.756xh;0,0.244xh&resize=1200:*\n",
      "/Users/guillaumedorschner/Library/Mobile Documents/com~apple~CloudDocs/Ecole/4 - ESILV/A4/S7/PI 2/mine-clearance/AI/BotScraper\n"
     ]
    },
    {
     "name": "stderr",
     "output_type": "stream",
     "text": [
      "/Library/Frameworks/Python.framework/Versions/3.11/lib/python3.11/site-packages/urllib3/connectionpool.py:1045: InsecureRequestWarning: Unverified HTTPS request is being made to host 'hips.hearstapps.com'. Adding certificate verification is strongly advised. See: https://urllib3.readthedocs.io/en/1.26.x/advanced-usage.html#ssl-warnings\n",
      "  warnings.warn(\n"
     ]
    },
    {
     "name": "stdout",
     "output_type": "stream",
     "text": [
      "Found 12 child images\n"
     ]
    },
    {
     "ename": "KeyboardInterrupt",
     "evalue": "",
     "output_type": "error",
     "traceback": [
      "\u001b[0;31m---------------------------------------------------------------------------\u001b[0m",
      "\u001b[0;31mKeyboardInterrupt\u001b[0m                         Traceback (most recent call last)",
      "Cell \u001b[0;32mIn[17], line 34\u001b[0m\n\u001b[1;32m     32\u001b[0m child\u001b[38;5;241m.\u001b[39mclick()\n\u001b[1;32m     33\u001b[0m \u001b[38;5;28mprint\u001b[39m(\u001b[38;5;124mf\u001b[39m\u001b[38;5;124m\"\u001b[39m\u001b[38;5;124mFound \u001b[39m\u001b[38;5;132;01m{\u001b[39;00m\u001b[38;5;28mlen\u001b[39m(children)\u001b[38;5;132;01m}\u001b[39;00m\u001b[38;5;124m child images\u001b[39m\u001b[38;5;124m\"\u001b[39m)\n\u001b[0;32m---> 34\u001b[0m time\u001b[38;5;241m.\u001b[39msleep(\u001b[38;5;241m3\u001b[39m)\n\u001b[1;32m     35\u001b[0m \u001b[38;5;66;03m# Here you can add code to download child image\u001b[39;00m\n\u001b[1;32m     36\u001b[0m child_image_xpath \u001b[38;5;241m=\u001b[39m \u001b[38;5;124m'\u001b[39m\u001b[38;5;124m//*[@id=\u001b[39m\u001b[38;5;124m\"\u001b[39m\u001b[38;5;124mSva75c\u001b[39m\u001b[38;5;124m\"\u001b[39m\u001b[38;5;124m]/div[2]/div[2]/div[2]/div[2]/c-wiz/div/div/div/div/div[3]/div[1]/a/img[1]\u001b[39m\u001b[38;5;124m'\u001b[39m\n",
      "\u001b[0;31mKeyboardInterrupt\u001b[0m: "
     ]
    }
   ],
   "source": [
    "ctx = ssl.create_default_context()\n",
    "ctx.check_hostname = False\n",
    "ctx.verify_mode = ssl.CERT_NONE\n",
    "\n",
    "\n",
    "def find_elements(xpath):\n",
    "    \"\"\"Function to find elements with explicit wait and return them.\"\"\"\n",
    "    return WebDriverWait(Driver.driver, 10).until(\n",
    "        ec.presence_of_all_elements_located((By.XPATH, xpath))\n",
    "    )\n",
    "\n",
    "\n",
    "for index, image in enumerate(images):\n",
    "    try:\n",
    "        image.click()\n",
    "\n",
    "        main_image_xpath = '//*[@id=\"Sva75c\"]/div[2]/div[2]/div[2]/div[2]/c-wiz/div/div/div/div/div[3]/div[1]/a/img[1]'\n",
    "        main_image_element = find_elements(main_image_xpath)\n",
    "        # Download main image\n",
    "        print(main_image_element[0].get_attribute(\"src\"))\n",
    "        download_image(main_image_element)\n",
    "        # Process child images\n",
    "        children_xpath = '//*[@id=\"Sva75c\"]/div[2]/div[2]/div[2]/div[2]/c-wiz/div/div/div/div/c-wiz/div/div/div/div[1]/div[3]/div/div/a[1]/div[1]/img'\n",
    "        children = find_elements(children_xpath)\n",
    "        print(f\"Found {len(children)} child images\")\n",
    "        time.sleep(3)\n",
    "\n",
    "        for child_id, child in enumerate(children):\n",
    "            try:\n",
    "                children = find_elements(children_xpath)\n",
    "                child = children[child_id]\n",
    "                child.click()\n",
    "                print(f\"Found {len(children)} child images\")\n",
    "                time.sleep(3)\n",
    "                # Here you can add code to download child image\n",
    "                child_image_xpath = '//*[@id=\"Sva75c\"]/div[2]/div[2]/div[2]/div[2]/c-wiz/div/div/div/div/div[3]/div[1]/a/img[1]'\n",
    "                child_image_element = find_elements(main_image_xpath)\n",
    "                print(child_image_element[0].get_attribute(\"src\"))\n",
    "                download_image(child_image_element)\n",
    "                Driver.driver.execute_script(\"window.history.go(-1)\")\n",
    "            except Exception as e:\n",
    "                print(f\"Error processing child image {child_id}: {e}\")\n",
    "    except Exception as e:\n",
    "        print(f\"Error processing main image {index}: {e}\")"
   ]
  }
 ],
 "metadata": {
  "kernelspec": {
   "display_name": "Python 3",
   "language": "python",
   "name": "python3"
  },
  "language_info": {
   "codemirror_mode": {
    "name": "ipython",
    "version": 3
   },
   "file_extension": ".py",
   "mimetype": "text/x-python",
   "name": "python",
   "nbconvert_exporter": "python",
   "pygments_lexer": "ipython3",
   "version": "3.11.2"
  }
 },
 "nbformat": 4,
 "nbformat_minor": 2
}
